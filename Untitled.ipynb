{
 "cells": [
  {
   "cell_type": "code",
   "execution_count": 118,
   "metadata": {
    "collapsed": true
   },
   "outputs": [],
   "source": [
    "import pandas as pd\n",
    "from sklearn.cluster import KMeans\n",
    "import numpy as np"
   ]
  },
  {
   "cell_type": "code",
   "execution_count": 119,
   "metadata": {
    "collapsed": false
   },
   "outputs": [
    {
     "data": {
      "text/html": [
       "<div>\n",
       "<table border=\"1\" class=\"dataframe\">\n",
       "  <thead>\n",
       "    <tr style=\"text-align: right;\">\n",
       "      <th></th>\n",
       "      <th>bidir_probs</th>\n",
       "      <th>deeprank_probs</th>\n",
       "      <th>ns_paths</th>\n",
       "      <th>min_depths</th>\n",
       "      <th>max_depths</th>\n",
       "      <th>in_degrees</th>\n",
       "      <th>pageranks</th>\n",
       "    </tr>\n",
       "    <tr>\n",
       "      <th>node</th>\n",
       "      <th></th>\n",
       "      <th></th>\n",
       "      <th></th>\n",
       "      <th></th>\n",
       "      <th></th>\n",
       "      <th></th>\n",
       "      <th></th>\n",
       "    </tr>\n",
       "  </thead>\n",
       "  <tbody>\n",
       "    <tr>\n",
       "      <th>Personal web page</th>\n",
       "      <td>0.819444</td>\n",
       "      <td>0.000176</td>\n",
       "      <td>18</td>\n",
       "      <td>4</td>\n",
       "      <td>5</td>\n",
       "      <td>0.000301</td>\n",
       "      <td>0.000074</td>\n",
       "    </tr>\n",
       "    <tr>\n",
       "      <th>Vehicle registration plates of Illinois</th>\n",
       "      <td>0.333333</td>\n",
       "      <td>0.000090</td>\n",
       "      <td>6</td>\n",
       "      <td>4</td>\n",
       "      <td>5</td>\n",
       "      <td>0.000301</td>\n",
       "      <td>0.000063</td>\n",
       "    </tr>\n",
       "    <tr>\n",
       "      <th>Adobe Systems</th>\n",
       "      <td>0.657143</td>\n",
       "      <td>0.001978</td>\n",
       "      <td>35</td>\n",
       "      <td>3</td>\n",
       "      <td>5</td>\n",
       "      <td>0.005711</td>\n",
       "      <td>0.000253</td>\n",
       "    </tr>\n",
       "    <tr>\n",
       "      <th>NoSQL</th>\n",
       "      <td>0.578947</td>\n",
       "      <td>0.007491</td>\n",
       "      <td>19</td>\n",
       "      <td>3</td>\n",
       "      <td>5</td>\n",
       "      <td>0.003907</td>\n",
       "      <td>0.000206</td>\n",
       "    </tr>\n",
       "    <tr>\n",
       "      <th>Nasdaq Nordic</th>\n",
       "      <td>0.833333</td>\n",
       "      <td>0.001141</td>\n",
       "      <td>6</td>\n",
       "      <td>4</td>\n",
       "      <td>5</td>\n",
       "      <td>0.000301</td>\n",
       "      <td>0.000131</td>\n",
       "    </tr>\n",
       "  </tbody>\n",
       "</table>\n",
       "</div>"
      ],
      "text/plain": [
       "                                         bidir_probs  deeprank_probs  \\\n",
       "node                                                                   \n",
       "Personal web page                           0.819444        0.000176   \n",
       "Vehicle registration plates of Illinois     0.333333        0.000090   \n",
       "Adobe Systems                               0.657143        0.001978   \n",
       "NoSQL                                       0.578947        0.007491   \n",
       "Nasdaq Nordic                               0.833333        0.001141   \n",
       "\n",
       "                                         ns_paths  min_depths  max_depths  \\\n",
       "node                                                                        \n",
       "Personal web page                              18           4           5   \n",
       "Vehicle registration plates of Illinois         6           4           5   \n",
       "Adobe Systems                                  35           3           5   \n",
       "NoSQL                                          19           3           5   \n",
       "Nasdaq Nordic                                   6           4           5   \n",
       "\n",
       "                                         in_degrees  pageranks  \n",
       "node                                                            \n",
       "Personal web page                          0.000301   0.000074  \n",
       "Vehicle registration plates of Illinois    0.000301   0.000063  \n",
       "Adobe Systems                              0.005711   0.000253  \n",
       "NoSQL                                      0.003907   0.000206  \n",
       "Nasdaq Nordic                              0.000301   0.000131  "
      ]
     },
     "execution_count": 119,
     "metadata": {},
     "output_type": "execute_result"
    }
   ],
   "source": [
    "article_title = \"AngularJS\"\n",
    "transversal_level = \"1..3\"\n",
    "\n",
    "filename = \"results4/\" + article_title + \"-\" + transversal_level \n",
    "\n",
    "data = pd.read_csv(filename + \".csv\", header=1, index_col=0)\n",
    "\n",
    "data.head()"
   ]
  },
  {
   "cell_type": "code",
   "execution_count": 124,
   "metadata": {
    "collapsed": false
   },
   "outputs": [],
   "source": [
    "#for i in range(10):\n",
    "    #kmeans = KMeans(n_clusters=5, random_state=0).fit(data)\n",
    "    #print kmeans.labels_\n",
    "    #print \"\\n\"\n",
    "\n",
    "kmeans = KMeans(n_clusters=10, random_state=0).fit(data)\n",
    "#df2 = pd.DataFrame(kmeans.labels_[:,None], columns=[\"labels\"])"
   ]
  },
  {
   "cell_type": "code",
   "execution_count": 125,
   "metadata": {
    "collapsed": false
   },
   "outputs": [],
   "source": [
    "data['labels'] = pd.Series(kmeans.labels_, index=data.index)\n",
    "data.head()\n",
    "#print kmeans.predict(data)\n",
    "data.to_csv(filename + \"-labeled.csv\")"
   ]
  },
  {
   "cell_type": "code",
   "execution_count": null,
   "metadata": {
    "collapsed": true
   },
   "outputs": [],
   "source": []
  }
 ],
 "metadata": {
  "kernelspec": {
   "display_name": "Python [conda root]",
   "language": "python",
   "name": "conda-root-py"
  },
  "language_info": {
   "codemirror_mode": {
    "name": "ipython",
    "version": 2
   },
   "file_extension": ".py",
   "mimetype": "text/x-python",
   "name": "python",
   "nbconvert_exporter": "python",
   "pygments_lexer": "ipython2",
   "version": "2.7.12"
  }
 },
 "nbformat": 4,
 "nbformat_minor": 2
}
